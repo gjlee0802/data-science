{
 "cells": [
  {
   "cell_type": "markdown",
   "id": "b5e5803d",
   "metadata": {},
   "source": [
    "## Instructions\n",
    "- 빈 코드를 완성하여 제출합니다.\n",
    "- 제출 파일명은 \"과제2_학번_이름.ipynb\" 입니다.\n",
    "- random_state 를 지정할 수 있는 함수 및 메소드에 대해, 321으로 지정합니다."
   ]
  },
  {
   "cell_type": "code",
   "execution_count": null,
   "id": "de3456d8",
   "metadata": {},
   "outputs": [],
   "source": [
    "import numpy as np\n",
    "import pandas as pd\n",
    "from sklearn.ensemble import VotingClassifier, RandomForestClassifier\n",
    "from sklearn.linear_model import LogisticRegression\n",
    "from sklearn.neighbors import KNeighborsClassifier\n",
    "from sklearn.model_selection import train_test_split\n",
    "from sklearn.tree import DecisionTreeClassifier\n",
    "from sklearn.metrics import accuracy_score, f1_score\n",
    "\n",
    "import warnings\n",
    "warnings.filterwarnings('ignore')"
   ]
  },
  {
   "cell_type": "markdown",
   "id": "f2acfbcd",
   "metadata": {},
   "source": [
    "## 데이터 로드"
   ]
  },
  {
   "cell_type": "code",
   "execution_count": null,
   "id": "2d00624a",
   "metadata": {},
   "outputs": [],
   "source": [
    "from sklearn.datasets import load_breast_cancer\n",
    "import pandas as pd\n",
    "\n",
    "cancer = load_breast_cancer()\n",
    "data_df = pd.DataFrame(cancer.data, columns=cancer.feature_names)\n",
    "data_df.sample(3, random_state=321)"
   ]
  },
  {
   "cell_type": "markdown",
   "id": "806f066d",
   "metadata": {},
   "source": [
    "## 0. 데이터 분할\n",
    "- cancer.data 를 입력 특징으로, cancer.target을 타겟 변수로 하여 학습 데이터와 테스트 데이터를 분할합니다.\n",
    "- 테스트 데이터 비율은 20% 입니다."
   ]
  },
  {
   "cell_type": "code",
   "execution_count": null,
   "id": "1b3e1fcb",
   "metadata": {},
   "outputs": [],
   "source": [
    "X_train, X_test, y_train, y_test = _"
   ]
  },
  {
   "cell_type": "markdown",
   "id": "93a418c4",
   "metadata": {},
   "source": [
    "## 1. 결정 트리\n",
    "- 결정 트리 모델을 학습하고, 학습 및 테스트 데이터에 각각에 대해 정확도 및 F1을 측정합니다.\n",
    "- 1-1. 제약 없는 결정 트리를 entropy 를 불순도 지표로 사용하여 학습합니다. \n",
    "- 1-2. 트리 최대 깊이를 3으로 지정한 가지치기한 결정 트리를 학습합니다."
   ]
  },
  {
   "cell_type": "code",
   "execution_count": null,
   "id": "5fe14bc0",
   "metadata": {},
   "outputs": [],
   "source": [
    "dt_full = \n",
    "_\n",
    "\n",
    "print(\"= 제약없는 결정 트리 =\")\n",
    "\n",
    "y_pred_train = _\n",
    "print('(학습) 정확도: %.3f' % _)\n",
    "print('(학습) F1: %.3f' % _)\n",
    "\n",
    "y_pred_test = _\n",
    "print('(테스트) 정확도: %.3f' % _)\n",
    "print('(테스트) F1: %.3f' % _)"
   ]
  },
  {
   "cell_type": "code",
   "execution_count": null,
   "id": "59d12db9",
   "metadata": {},
   "outputs": [],
   "source": [
    "dt_pruned = _\n",
    "_\n",
    "\n",
    "print(\"= 가지치기한 결정 트리 =\")\n",
    "\n",
    "y_pred_train = _\n",
    "print('(학습) 정확도: %.3f' % _)\n",
    "print('(학습) F1: %.3f' % _)\n",
    "\n",
    "y_pred_test = _\n",
    "print('(테스트) 정확도: %.3f' % _)\n",
    "print('(테스트) F1: %.3f' % _)"
   ]
  },
  {
   "cell_type": "markdown",
   "id": "0544668e",
   "metadata": {},
   "source": [
    "## 2. 랜덤 포레스트\n",
    "- 랜덤 포레스트 모델을 학습하고, 학습 및 테스트 데이터 각각에 대해 정확도 및 F1을 측정합니다.\n",
    "- 2-1. 불순도 지표는 'gini', 트리 개수는 500으로 지정합니다.\n",
    "- 2-2. 불순도 지표는 'gini', 트리 개수는 50으로 지정합니다."
   ]
  },
  {
   "cell_type": "code",
   "execution_count": null,
   "id": "c8ca8bcd",
   "metadata": {},
   "outputs": [],
   "source": [
    "forest_500 = _\n",
    "_\n",
    "\n",
    "print(\"= 랜덤 포레스트 =\")\n",
    "\n",
    "y_pred_train = _\n",
    "print('(학습) 정확도: %.3f' % _)\n",
    "print('(학습) F1: %.3f' % _)\n",
    "\n",
    "y_pred_test = _\n",
    "print('(테스트) 정확도: %.3f' % _)\n",
    "print('(테스트) F1: %.3f' % _)"
   ]
  },
  {
   "cell_type": "code",
   "execution_count": null,
   "id": "51bde6ad",
   "metadata": {},
   "outputs": [],
   "source": [
    "forest_50 = _\n",
    "_\n",
    "\n",
    "print(\"= 랜덤 포레스트 =\")\n",
    "\n",
    "y_pred_train = _\n",
    "print('(학습) 정확도: %.3f' % _)\n",
    "print('(학습) F1: %.3f' % _)\n",
    "\n",
    "y_pred_test = _\n",
    "print('(테스트) 정확도: %.3f' % _)\n",
    "print('(테스트) F1: %.3f' % _)"
   ]
  },
  {
   "cell_type": "markdown",
   "id": "22c4dbeb",
   "metadata": {},
   "source": [
    "## 3. 보팅 앙상블\n",
    "- 개별 모델을 로지스틱 회귀, KNN, 랜덤 포레스트(트리 개수 50, 불순도 지표 'gini')로 사용하는 보팅 앙상블 모델을 학습합니다. 학습한 모델을 이용해 테스트 데이터에 성능을 평가합니다. 랜덤 포레스트 모델은 2-2 에서 구현한 모델을 사용합니다.\n",
    "- 3.1. logistic regression 모델을 학습합니다.\n",
    "- 3.2. KNN 모델을 학습합니다. 이웃의 수는 8 입니다.\n",
    "- 3.3. 보팅 앙상블 모델을 학습합니다. 소프트 보팅을 사용합니다."
   ]
  },
  {
   "cell_type": "code",
   "execution_count": null,
   "id": "e70fc5ee",
   "metadata": {},
   "outputs": [],
   "source": [
    "lr_clf = _\n",
    "_\n",
    "\n",
    "print(\"= 로지스틱 회귀 =\")\n",
    "\n",
    "y_pred_train = _\n",
    "print('(학습) 정확도: %.3f' % _)\n",
    "print('(학습) F1: %.3f' % _)\n",
    "\n",
    "y_pred_test = _\n",
    "print('(테스트) 정확도: %.3f' % _)\n",
    "print('(테스트) F1: %.3f' % _)"
   ]
  },
  {
   "cell_type": "code",
   "execution_count": null,
   "id": "32187d5d",
   "metadata": {},
   "outputs": [],
   "source": [
    "knn_clf = _\n",
    "_\n",
    "\n",
    "print(\"= KNN =\")\n",
    "\n",
    "y_pred_train = _\n",
    "print('(학습) 정확도: %.3f' % _)\n",
    "print('(학습) F1: %.3f' % _)\n",
    "\n",
    "y_pred_test = _\n",
    "print('(테스트) 정확도: %.3f' % _)\n",
    "print('(테스트) F1: %.3f' % _)"
   ]
  },
  {
   "cell_type": "code",
   "execution_count": null,
   "id": "d3dda078",
   "metadata": {},
   "outputs": [],
   "source": [
    "vo_clf = _\n",
    "_\n",
    "\n",
    "print(\"= Voting 분류기 =\")\n",
    "\n",
    "y_pred_train = _\n",
    "print('(학습) 정확도: %.3f' % _)\n",
    "print('(학습) F1: %.3f' % _)\n",
    "\n",
    "y_pred_test = _\n",
    "print('(테스트) 정확도: %.3f' % _)\n",
    "print('(테스트) F1: %.3f' % _)"
   ]
  },
  {
   "cell_type": "markdown",
   "id": "27d36428",
   "metadata": {},
   "source": [
    "## 4. 하이퍼파라미터 최적화\n",
    "- 학습 데이터에 대해 10-fold CV 기반 Grid Search를 수행합니다. scoring 기준은 roc_auc 입니다.\n",
    "- Logistic Regression 대상 하이퍼파라미터는 C 이며, 후보 값은 1, 0.1, 0.01 입니다.\n",
    "- KNN 대상 하이퍼파라미터는 n_neighbors 이며, 후보 값은 4, 6, 8 입니다.\n",
    "- Random Forest 대상 하이퍼파라미터는 num_estimators 이며, 후보 값은 50, 100, 500 입니다.\n",
    "- 최적 하이퍼파라미터를 이용해 테스트 데이터에 예측을 수행하고, 성능을 평가합니다."
   ]
  },
  {
   "cell_type": "code",
   "execution_count": null,
   "id": "63bdbdfc",
   "metadata": {},
   "outputs": [],
   "source": [
    "grid = _\n",
    "_\n",
    "\n",
    "for r, _ in enumerate(grid.cv_results_['mean_test_score']):\n",
    "    print(\"%0.3f +/- %0.2f %r\"\n",
    "          % (grid.cv_results_['mean_test_score'][r], \n",
    "             grid.cv_results_['std_test_score'][r] / 2.0, \n",
    "             grid.cv_results_['params'][r]))"
   ]
  },
  {
   "cell_type": "code",
   "execution_count": null,
   "id": "d49cc855",
   "metadata": {},
   "outputs": [],
   "source": [
    "print('최적의 매개변수: %s' % _)"
   ]
  },
  {
   "cell_type": "code",
   "execution_count": null,
   "id": "8f2c5bd7",
   "metadata": {},
   "outputs": [],
   "source": [
    "print('정확도: %.2f' % _)"
   ]
  },
  {
   "cell_type": "code",
   "execution_count": null,
   "id": "13aad11c",
   "metadata": {},
   "outputs": [],
   "source": [
    "_\n",
    "y_test_pred = _\n",
    "print('(테스트) 정확도: %.3f' % _)\n",
    "print('(테스트) F1: %.3f' % _)"
   ]
  },
  {
   "cell_type": "code",
   "execution_count": null,
   "id": "9e8da9f5",
   "metadata": {},
   "outputs": [],
   "source": []
  }
 ],
 "metadata": {
  "kernelspec": {
   "display_name": "Python [conda env:2024-DS] *",
   "language": "python",
   "name": "conda-env-2024-DS-py"
  },
  "language_info": {
   "codemirror_mode": {
    "name": "ipython",
    "version": 3
   },
   "file_extension": ".py",
   "mimetype": "text/x-python",
   "name": "python",
   "nbconvert_exporter": "python",
   "pygments_lexer": "ipython3",
   "version": "3.9.18"
  }
 },
 "nbformat": 4,
 "nbformat_minor": 5
}
