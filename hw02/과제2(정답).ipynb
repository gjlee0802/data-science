{
 "cells": [
  {
   "cell_type": "markdown",
   "id": "fbac82b3",
   "metadata": {},
   "source": [
    "## Instructions\n",
    "- 빈 코드를 완성하여 제출합니다.\n",
    "- 제출 파일명은 과제2_학번.ipynb 입니다.\n",
    "- random_state 를 지정할 수 있는 함수 및 메소드에 대해, 321으로 지정합니다."
   ]
  },
  {
   "cell_type": "code",
   "execution_count": 1,
   "id": "de3456d8",
   "metadata": {},
   "outputs": [],
   "source": [
    "import numpy as np\n",
    "import pandas as pd\n",
    "from sklearn.ensemble import VotingClassifier, RandomForestClassifier\n",
    "from sklearn.linear_model import LogisticRegression\n",
    "from sklearn.neighbors import KNeighborsClassifier\n",
    "from sklearn.model_selection import train_test_split\n",
    "from sklearn.tree import DecisionTreeClassifier\n",
    "from sklearn.metrics import accuracy_score, f1_score\n",
    "\n",
    "import warnings\n",
    "warnings.filterwarnings('ignore')"
   ]
  },
  {
   "cell_type": "markdown",
   "id": "f2acfbcd",
   "metadata": {},
   "source": [
    "## 데이터 로드"
   ]
  },
  {
   "cell_type": "code",
   "execution_count": 2,
   "id": "2d00624a",
   "metadata": {},
   "outputs": [
    {
     "data": {
      "text/html": [
       "<div>\n",
       "<style scoped>\n",
       "    .dataframe tbody tr th:only-of-type {\n",
       "        vertical-align: middle;\n",
       "    }\n",
       "\n",
       "    .dataframe tbody tr th {\n",
       "        vertical-align: top;\n",
       "    }\n",
       "\n",
       "    .dataframe thead th {\n",
       "        text-align: right;\n",
       "    }\n",
       "</style>\n",
       "<table border=\"1\" class=\"dataframe\">\n",
       "  <thead>\n",
       "    <tr style=\"text-align: right;\">\n",
       "      <th></th>\n",
       "      <th>mean radius</th>\n",
       "      <th>mean texture</th>\n",
       "      <th>mean perimeter</th>\n",
       "      <th>mean area</th>\n",
       "      <th>mean smoothness</th>\n",
       "      <th>mean compactness</th>\n",
       "      <th>mean concavity</th>\n",
       "      <th>mean concave points</th>\n",
       "      <th>mean symmetry</th>\n",
       "      <th>mean fractal dimension</th>\n",
       "      <th>...</th>\n",
       "      <th>worst radius</th>\n",
       "      <th>worst texture</th>\n",
       "      <th>worst perimeter</th>\n",
       "      <th>worst area</th>\n",
       "      <th>worst smoothness</th>\n",
       "      <th>worst compactness</th>\n",
       "      <th>worst concavity</th>\n",
       "      <th>worst concave points</th>\n",
       "      <th>worst symmetry</th>\n",
       "      <th>worst fractal dimension</th>\n",
       "    </tr>\n",
       "  </thead>\n",
       "  <tbody>\n",
       "    <tr>\n",
       "      <th>303</th>\n",
       "      <td>10.490</td>\n",
       "      <td>18.61</td>\n",
       "      <td>66.86</td>\n",
       "      <td>334.3</td>\n",
       "      <td>0.1068</td>\n",
       "      <td>0.06678</td>\n",
       "      <td>0.02297</td>\n",
       "      <td>0.01780</td>\n",
       "      <td>0.1482</td>\n",
       "      <td>0.06600</td>\n",
       "      <td>...</td>\n",
       "      <td>11.06</td>\n",
       "      <td>24.54</td>\n",
       "      <td>70.76</td>\n",
       "      <td>375.4</td>\n",
       "      <td>0.1413</td>\n",
       "      <td>0.1044</td>\n",
       "      <td>0.08423</td>\n",
       "      <td>0.06528</td>\n",
       "      <td>0.2213</td>\n",
       "      <td>0.07842</td>\n",
       "    </tr>\n",
       "    <tr>\n",
       "      <th>536</th>\n",
       "      <td>14.270</td>\n",
       "      <td>22.55</td>\n",
       "      <td>93.77</td>\n",
       "      <td>629.8</td>\n",
       "      <td>0.1038</td>\n",
       "      <td>0.11540</td>\n",
       "      <td>0.14630</td>\n",
       "      <td>0.06139</td>\n",
       "      <td>0.1926</td>\n",
       "      <td>0.05982</td>\n",
       "      <td>...</td>\n",
       "      <td>15.29</td>\n",
       "      <td>34.27</td>\n",
       "      <td>104.30</td>\n",
       "      <td>728.3</td>\n",
       "      <td>0.1380</td>\n",
       "      <td>0.2733</td>\n",
       "      <td>0.42340</td>\n",
       "      <td>0.13620</td>\n",
       "      <td>0.2698</td>\n",
       "      <td>0.08351</td>\n",
       "    </tr>\n",
       "    <tr>\n",
       "      <th>152</th>\n",
       "      <td>9.731</td>\n",
       "      <td>15.34</td>\n",
       "      <td>63.78</td>\n",
       "      <td>300.2</td>\n",
       "      <td>0.1072</td>\n",
       "      <td>0.15990</td>\n",
       "      <td>0.41080</td>\n",
       "      <td>0.07857</td>\n",
       "      <td>0.2548</td>\n",
       "      <td>0.09296</td>\n",
       "      <td>...</td>\n",
       "      <td>11.02</td>\n",
       "      <td>19.49</td>\n",
       "      <td>71.04</td>\n",
       "      <td>380.5</td>\n",
       "      <td>0.1292</td>\n",
       "      <td>0.2772</td>\n",
       "      <td>0.82160</td>\n",
       "      <td>0.15710</td>\n",
       "      <td>0.3108</td>\n",
       "      <td>0.12590</td>\n",
       "    </tr>\n",
       "  </tbody>\n",
       "</table>\n",
       "<p>3 rows × 30 columns</p>\n",
       "</div>"
      ],
      "text/plain": [
       "     mean radius  mean texture  mean perimeter  mean area  mean smoothness  \\\n",
       "303       10.490         18.61           66.86      334.3           0.1068   \n",
       "536       14.270         22.55           93.77      629.8           0.1038   \n",
       "152        9.731         15.34           63.78      300.2           0.1072   \n",
       "\n",
       "     mean compactness  mean concavity  mean concave points  mean symmetry  \\\n",
       "303           0.06678         0.02297              0.01780         0.1482   \n",
       "536           0.11540         0.14630              0.06139         0.1926   \n",
       "152           0.15990         0.41080              0.07857         0.2548   \n",
       "\n",
       "     mean fractal dimension  ...  worst radius  worst texture  \\\n",
       "303                 0.06600  ...         11.06          24.54   \n",
       "536                 0.05982  ...         15.29          34.27   \n",
       "152                 0.09296  ...         11.02          19.49   \n",
       "\n",
       "     worst perimeter  worst area  worst smoothness  worst compactness  \\\n",
       "303            70.76       375.4            0.1413             0.1044   \n",
       "536           104.30       728.3            0.1380             0.2733   \n",
       "152            71.04       380.5            0.1292             0.2772   \n",
       "\n",
       "     worst concavity  worst concave points  worst symmetry  \\\n",
       "303          0.08423               0.06528          0.2213   \n",
       "536          0.42340               0.13620          0.2698   \n",
       "152          0.82160               0.15710          0.3108   \n",
       "\n",
       "     worst fractal dimension  \n",
       "303                  0.07842  \n",
       "536                  0.08351  \n",
       "152                  0.12590  \n",
       "\n",
       "[3 rows x 30 columns]"
      ]
     },
     "execution_count": 2,
     "metadata": {},
     "output_type": "execute_result"
    }
   ],
   "source": [
    "from sklearn.datasets import load_breast_cancer\n",
    "import pandas as pd\n",
    "\n",
    "cancer = load_breast_cancer()\n",
    "data_df = pd.DataFrame(cancer.data, columns=cancer.feature_names)\n",
    "data_df.sample(3, random_state=321)"
   ]
  },
  {
   "cell_type": "markdown",
   "id": "a35f2a34",
   "metadata": {},
   "source": [
    "## 0. 데이터 분할\n",
    "- cancer.data 를 입력 특징으로, cancer.target을 타겟 변수로 하여 학습 데이터와 테스트 데이터를 분할합니다.\n",
    "- 테스트 데이터 비율은 20% 입니다."
   ]
  },
  {
   "cell_type": "code",
   "execution_count": 3,
   "id": "1b3e1fcb",
   "metadata": {},
   "outputs": [],
   "source": [
    "X_train, X_test, y_train, y_test = train_test_split(cancer.data, cancer.target,\n",
    "                                                   test_size=0.2, stratify=cancer.target, random_state=321)"
   ]
  },
  {
   "cell_type": "markdown",
   "id": "93a418c4",
   "metadata": {},
   "source": [
    "## 1. 결정 트리\n",
    "- 결정 트리 모델을 학습하고, 학습 및 테스트 데이터에 각각에 대해 정확도, F1을 측정합니다.\n",
    "- 1-1. 제약 없는 결정 트리를 entropy 를 불순도 지표로 사용하여 학습합니다. \n",
    "- 1-2. 트리 최대 깊이를 3으로 지정한 가지치기한 결정 트리를 학습합니다."
   ]
  },
  {
   "cell_type": "code",
   "execution_count": 4,
   "id": "5fe14bc0",
   "metadata": {},
   "outputs": [
    {
     "name": "stdout",
     "output_type": "stream",
     "text": [
      "= 제약없는 결정 트리 =\n",
      "(학습) 정확도: 1.000\n",
      "(학습) F1: 1.000\n",
      "(테스트) 정확도: 0.904\n",
      "(테스트) F1: 0.923\n"
     ]
    }
   ],
   "source": [
    "dt_full = DecisionTreeClassifier(criterion='entropy', random_state=321)\n",
    "dt_full.fit(X_train, y_train)\n",
    "\n",
    "print(\"= 제약없는 결정 트리 =\")\n",
    "\n",
    "y_pred_train = dt_full.predict(X_train)\n",
    "print('(학습) 정확도: %.3f' % accuracy_score(y_true=y_train, y_pred=y_pred_train))\n",
    "print('(학습) F1: %.3f' % f1_score(y_true=y_train, y_pred=y_pred_train))\n",
    "\n",
    "y_pred_test = dt_full.predict(X_test)\n",
    "print('(테스트) 정확도: %.3f' % accuracy_score(y_true=y_test, y_pred=y_pred_test))\n",
    "print('(테스트) F1: %.3f' % f1_score(y_true=y_test, y_pred=y_pred_test))"
   ]
  },
  {
   "cell_type": "code",
   "execution_count": 5,
   "id": "59d12db9",
   "metadata": {},
   "outputs": [
    {
     "name": "stdout",
     "output_type": "stream",
     "text": [
      "= 가지치기한 결정 트리 =\n",
      "(학습) 정확도: 0.976\n",
      "(학습) F1: 0.981\n",
      "(테스트) 정확도: 0.912\n",
      "(테스트) F1: 0.932\n"
     ]
    }
   ],
   "source": [
    "dt_pruned = DecisionTreeClassifier(max_depth=3, criterion='entropy', random_state=321)\n",
    "dt_pruned.fit(X_train, y_train)\n",
    "\n",
    "print(\"= 가지치기한 결정 트리 =\")\n",
    "\n",
    "y_pred_train = dt_pruned.predict(X_train)\n",
    "print('(학습) 정확도: %.3f' % accuracy_score(y_true=y_train, y_pred=y_pred_train))\n",
    "print('(학습) F1: %.3f' % f1_score(y_true=y_train, y_pred=y_pred_train))\n",
    "\n",
    "y_pred_test = dt_pruned.predict(X_test)\n",
    "print('(테스트) 정확도: %.3f' % accuracy_score(y_true=y_test, y_pred=y_pred_test))\n",
    "print('(테스트) F1: %.3f' % f1_score(y_true=y_test, y_pred=y_pred_test))"
   ]
  },
  {
   "cell_type": "markdown",
   "id": "0544668e",
   "metadata": {},
   "source": [
    "## 2. 랜덤 포레스트\n",
    "- 랜덤 포레스트 모델을 학습하고, 학습 및 테스트 데이터 각각에 대해 정확도, F1을 측정합니다.\n",
    "- 2-1. 불순도 지표는 'gini', 트리 개수는 500으로 지정합니다.\n",
    "- 2-2. 불순도 지표는 'gini', 트리 개수는 50으로 지정합니다."
   ]
  },
  {
   "cell_type": "code",
   "execution_count": 6,
   "id": "c8ca8bcd",
   "metadata": {},
   "outputs": [
    {
     "name": "stdout",
     "output_type": "stream",
     "text": [
      "= 랜덤 포레스트 =\n",
      "(학습) 정확도: 1.000\n",
      "(학습) F1: 1.000\n",
      "(테스트) 정확도: 0.947\n",
      "(테스트) F1: 0.958\n"
     ]
    }
   ],
   "source": [
    "forest_500 = RandomForestClassifier(criterion='gini', n_estimators=500, random_state=321)\n",
    "forest_500.fit(X_train, y_train)\n",
    "\n",
    "print(\"= 랜덤 포레스트 =\")\n",
    "\n",
    "y_pred_train = forest_500.predict(X_train)\n",
    "print('(학습) 정확도: %.3f' % accuracy_score(y_true=y_train, y_pred=y_pred_train))\n",
    "print('(학습) F1: %.3f' % f1_score(y_true=y_train, y_pred=y_pred_train))\n",
    "\n",
    "y_pred_test = forest_500.predict(X_test)\n",
    "print('(테스트) 정확도: %.3f' % accuracy_score(y_true=y_test, y_pred=y_pred_test))\n",
    "print('(테스트) F1: %.3f' % f1_score(y_true=y_test, y_pred=y_pred_test))"
   ]
  },
  {
   "cell_type": "code",
   "execution_count": 7,
   "id": "51bde6ad",
   "metadata": {},
   "outputs": [
    {
     "name": "stdout",
     "output_type": "stream",
     "text": [
      "= 랜덤 포레스트 =\n",
      "(학습) 정확도: 1.000\n",
      "(학습) F1: 1.000\n",
      "(테스트) 정확도: 0.947\n",
      "(테스트) F1: 0.958\n"
     ]
    }
   ],
   "source": [
    "forest_50 = RandomForestClassifier(criterion='gini', n_estimators=50, random_state=321)\n",
    "forest_50.fit(X_train, y_train)\n",
    "\n",
    "print(\"= 랜덤 포레스트 =\")\n",
    "\n",
    "y_pred_train = forest_50.predict(X_train)\n",
    "print('(학습) 정확도: %.3f' % accuracy_score(y_true=y_train, y_pred=y_pred_train))\n",
    "print('(학습) F1: %.3f' % f1_score(y_true=y_train, y_pred=y_pred_train))\n",
    "\n",
    "y_pred_test = forest_50.predict(X_test)\n",
    "print('(테스트) 정확도: %.3f' % accuracy_score(y_true=y_test, y_pred=y_pred_test))\n",
    "print('(테스트) F1: %.3f' % f1_score(y_true=y_test, y_pred=y_pred_test))"
   ]
  },
  {
   "cell_type": "markdown",
   "id": "22c4dbeb",
   "metadata": {},
   "source": [
    "## 3. 보팅 앙상블\n",
    "- 개별 모델을 로지스틱 회귀, KNN, 랜덤 포레스트(트리 개수 50, 불순도 지표 'gini')로 사용하는 보팅 앙상블 모델을 학습합니다. 학습한 모델을 이용해 테스트 데이터에 성능을 평가합니다. 랜덤 포레스트 모델은 2-2 에서 구현한 모델을 사용합니다.\n",
    "- 3.1. logistic regression 모델을 학습합니다.\n",
    "- 3.2. KNN 모델을 학습합니다. 이웃의 수는 8 입니다.\n",
    "- 3.3. 보팅 앙상블 모델을 학습합니다. 소프트 보팅을 사용합니다."
   ]
  },
  {
   "cell_type": "code",
   "execution_count": 8,
   "id": "e70fc5ee",
   "metadata": {},
   "outputs": [
    {
     "name": "stdout",
     "output_type": "stream",
     "text": [
      "= 로지스틱 회귀 =\n",
      "(학습) 정확도: 0.952\n",
      "(학습) F1: 0.962\n",
      "(테스트) 정확도: 0.895\n",
      "(테스트) F1: 0.920\n"
     ]
    }
   ],
   "source": [
    "lr_clf = LogisticRegression(random_state=321)\n",
    "lr_clf.fit(X_train, y_train)\n",
    "\n",
    "print(\"= 로지스틱 회귀 =\")\n",
    "\n",
    "y_pred_train = lr_clf.predict(X_train)\n",
    "print('(학습) 정확도: %.3f' % accuracy_score(y_true=y_train, y_pred=y_pred_train))\n",
    "print('(학습) F1: %.3f' % f1_score(y_true=y_train, y_pred=y_pred_train))\n",
    "\n",
    "y_pred_test = lr_clf.predict(X_test)\n",
    "print('(테스트) 정확도: %.3f' % accuracy_score(y_true=y_test, y_pred=y_pred_test))\n",
    "print('(테스트) F1: %.3f' % f1_score(y_true=y_test, y_pred=y_pred_test))"
   ]
  },
  {
   "cell_type": "code",
   "execution_count": 9,
   "id": "592a10f9",
   "metadata": {},
   "outputs": [
    {
     "name": "stdout",
     "output_type": "stream",
     "text": [
      "= KNN =\n",
      "(학습) 정확도: 0.943\n",
      "(학습) F1: 0.955\n",
      "(테스트) 정확도: 0.921\n",
      "(테스트) F1: 0.940\n"
     ]
    }
   ],
   "source": [
    "knn_clf = KNeighborsClassifier(n_neighbors=8)\n",
    "knn_clf.fit(X_train, y_train)\n",
    "\n",
    "print(\"= KNN =\")\n",
    "\n",
    "y_pred_train = knn_clf.predict(X_train)\n",
    "print('(학습) 정확도: %.3f' % accuracy_score(y_true=y_train, y_pred=y_pred_train))\n",
    "print('(학습) F1: %.3f' % f1_score(y_true=y_train, y_pred=y_pred_train))\n",
    "\n",
    "y_pred_test = knn_clf.predict(X_test)\n",
    "print('(테스트) 정확도: %.3f' % accuracy_score(y_true=y_test, y_pred=y_pred_test))\n",
    "print('(테스트) F1: %.3f' % f1_score(y_true=y_test, y_pred=y_pred_test))"
   ]
  },
  {
   "cell_type": "code",
   "execution_count": 10,
   "id": "d3dda078",
   "metadata": {},
   "outputs": [
    {
     "name": "stdout",
     "output_type": "stream",
     "text": [
      "= Voting 분류기 =\n",
      "(학습) 정확도: 0.982\n",
      "(학습) F1: 0.986\n",
      "(테스트) 정확도: 0.930\n",
      "(테스트) F1: 0.946\n"
     ]
    }
   ],
   "source": [
    "vo_clf = VotingClassifier(estimators=[('LR', lr_clf), ('KNN', knn_clf), ('RF', forest_50)], voting='soft')\n",
    "vo_clf.fit(X_train, y_train)\n",
    "\n",
    "print(\"= Voting 분류기 =\")\n",
    "\n",
    "y_pred_train = vo_clf.predict(X_train)\n",
    "print('(학습) 정확도: %.3f' % accuracy_score(y_true=y_train, y_pred=y_pred_train))\n",
    "print('(학습) F1: %.3f' % f1_score(y_true=y_train, y_pred=y_pred_train))\n",
    "\n",
    "y_pred_test = vo_clf.predict(X_test)\n",
    "print('(테스트) 정확도: %.3f' % accuracy_score(y_true=y_test, y_pred=y_pred_test))\n",
    "print('(테스트) F1: %.3f' % f1_score(y_true=y_test, y_pred=y_pred_test))"
   ]
  },
  {
   "cell_type": "markdown",
   "id": "ff81516a",
   "metadata": {},
   "source": [
    "## 4. 하이퍼파라미터 최적화\n",
    "- 학습 데이터에 대해 10-fold CV 기반 Grid Search를 수행합니다. scoring 기준은 roc_auc 입니다.\n",
    "- Logistic Regression 대상 하이퍼파라미터는 C 이며, 후보 값은 1, 0.1, 0.01 입니다.\n",
    "- KNN 대상 하이퍼파라미터는 n_neighbors 이며, 후보 값은 4, 6, 8 입니다.\n",
    "- Random Forest 대상 하이퍼파라미터는 num_estimators 이며, 후보 값은 50, 100, 500 입니다.\n",
    "- 최적 하이퍼파라미터를 이용해 테스트 데이터에 예측을 수행하고, 성능을 평가합니다."
   ]
  },
  {
   "cell_type": "code",
   "execution_count": 12,
   "id": "cd201f63",
   "metadata": {},
   "outputs": [
    {
     "data": {
      "text/plain": [
       "{'estimators': [('LR', LogisticRegression(random_state=321)),\n",
       "  ('KNN', KNeighborsClassifier(n_neighbors=8)),\n",
       "  ('RF', RandomForestClassifier(n_estimators=50, random_state=321))],\n",
       " 'flatten_transform': True,\n",
       " 'n_jobs': None,\n",
       " 'verbose': False,\n",
       " 'voting': 'soft',\n",
       " 'weights': None,\n",
       " 'LR': LogisticRegression(random_state=321),\n",
       " 'KNN': KNeighborsClassifier(n_neighbors=8),\n",
       " 'RF': RandomForestClassifier(n_estimators=50, random_state=321),\n",
       " 'LR__C': 1.0,\n",
       " 'LR__class_weight': None,\n",
       " 'LR__dual': False,\n",
       " 'LR__fit_intercept': True,\n",
       " 'LR__intercept_scaling': 1,\n",
       " 'LR__l1_ratio': None,\n",
       " 'LR__max_iter': 100,\n",
       " 'LR__multi_class': 'auto',\n",
       " 'LR__n_jobs': None,\n",
       " 'LR__penalty': 'l2',\n",
       " 'LR__random_state': 321,\n",
       " 'LR__solver': 'lbfgs',\n",
       " 'LR__tol': 0.0001,\n",
       " 'LR__verbose': 0,\n",
       " 'LR__warm_start': False,\n",
       " 'KNN__algorithm': 'auto',\n",
       " 'KNN__leaf_size': 30,\n",
       " 'KNN__metric': 'minkowski',\n",
       " 'KNN__metric_params': None,\n",
       " 'KNN__n_jobs': None,\n",
       " 'KNN__n_neighbors': 8,\n",
       " 'KNN__p': 2,\n",
       " 'KNN__weights': 'uniform',\n",
       " 'RF__bootstrap': True,\n",
       " 'RF__ccp_alpha': 0.0,\n",
       " 'RF__class_weight': None,\n",
       " 'RF__criterion': 'gini',\n",
       " 'RF__max_depth': None,\n",
       " 'RF__max_features': 'sqrt',\n",
       " 'RF__max_leaf_nodes': None,\n",
       " 'RF__max_samples': None,\n",
       " 'RF__min_impurity_decrease': 0.0,\n",
       " 'RF__min_samples_leaf': 1,\n",
       " 'RF__min_samples_split': 2,\n",
       " 'RF__min_weight_fraction_leaf': 0.0,\n",
       " 'RF__n_estimators': 50,\n",
       " 'RF__n_jobs': None,\n",
       " 'RF__oob_score': False,\n",
       " 'RF__random_state': 321,\n",
       " 'RF__verbose': 0,\n",
       " 'RF__warm_start': False}"
      ]
     },
     "execution_count": 12,
     "metadata": {},
     "output_type": "execute_result"
    }
   ],
   "source": [
    "vo_clf.get_params()"
   ]
  },
  {
   "cell_type": "code",
   "execution_count": 15,
   "id": "ff62dee6",
   "metadata": {},
   "outputs": [
    {
     "name": "stdout",
     "output_type": "stream",
     "text": [
      "0.995 +/- 0.00 {'KNN__n_neighbors': 4, 'LR__C': 1.0, 'RF__n_estimators': 50}\n",
      "0.995 +/- 0.00 {'KNN__n_neighbors': 4, 'LR__C': 1.0, 'RF__n_estimators': 100}\n",
      "0.996 +/- 0.00 {'KNN__n_neighbors': 4, 'LR__C': 1.0, 'RF__n_estimators': 500}\n",
      "0.994 +/- 0.00 {'KNN__n_neighbors': 4, 'LR__C': 0.1, 'RF__n_estimators': 50}\n",
      "0.995 +/- 0.00 {'KNN__n_neighbors': 4, 'LR__C': 0.1, 'RF__n_estimators': 100}\n",
      "0.995 +/- 0.00 {'KNN__n_neighbors': 4, 'LR__C': 0.1, 'RF__n_estimators': 500}\n",
      "0.992 +/- 0.00 {'KNN__n_neighbors': 4, 'LR__C': 0.01, 'RF__n_estimators': 50}\n",
      "0.993 +/- 0.00 {'KNN__n_neighbors': 4, 'LR__C': 0.01, 'RF__n_estimators': 100}\n",
      "0.993 +/- 0.00 {'KNN__n_neighbors': 4, 'LR__C': 0.01, 'RF__n_estimators': 500}\n",
      "0.995 +/- 0.00 {'KNN__n_neighbors': 6, 'LR__C': 1.0, 'RF__n_estimators': 50}\n",
      "0.995 +/- 0.00 {'KNN__n_neighbors': 6, 'LR__C': 1.0, 'RF__n_estimators': 100}\n",
      "0.995 +/- 0.00 {'KNN__n_neighbors': 6, 'LR__C': 1.0, 'RF__n_estimators': 500}\n",
      "0.994 +/- 0.00 {'KNN__n_neighbors': 6, 'LR__C': 0.1, 'RF__n_estimators': 50}\n",
      "0.994 +/- 0.00 {'KNN__n_neighbors': 6, 'LR__C': 0.1, 'RF__n_estimators': 100}\n",
      "0.994 +/- 0.00 {'KNN__n_neighbors': 6, 'LR__C': 0.1, 'RF__n_estimators': 500}\n",
      "0.993 +/- 0.00 {'KNN__n_neighbors': 6, 'LR__C': 0.01, 'RF__n_estimators': 50}\n",
      "0.992 +/- 0.00 {'KNN__n_neighbors': 6, 'LR__C': 0.01, 'RF__n_estimators': 100}\n",
      "0.992 +/- 0.00 {'KNN__n_neighbors': 6, 'LR__C': 0.01, 'RF__n_estimators': 500}\n",
      "0.995 +/- 0.00 {'KNN__n_neighbors': 8, 'LR__C': 1.0, 'RF__n_estimators': 50}\n",
      "0.995 +/- 0.00 {'KNN__n_neighbors': 8, 'LR__C': 1.0, 'RF__n_estimators': 100}\n",
      "0.995 +/- 0.00 {'KNN__n_neighbors': 8, 'LR__C': 1.0, 'RF__n_estimators': 500}\n",
      "0.994 +/- 0.00 {'KNN__n_neighbors': 8, 'LR__C': 0.1, 'RF__n_estimators': 50}\n",
      "0.994 +/- 0.00 {'KNN__n_neighbors': 8, 'LR__C': 0.1, 'RF__n_estimators': 100}\n",
      "0.994 +/- 0.00 {'KNN__n_neighbors': 8, 'LR__C': 0.1, 'RF__n_estimators': 500}\n",
      "0.992 +/- 0.00 {'KNN__n_neighbors': 8, 'LR__C': 0.01, 'RF__n_estimators': 50}\n",
      "0.992 +/- 0.00 {'KNN__n_neighbors': 8, 'LR__C': 0.01, 'RF__n_estimators': 100}\n",
      "0.993 +/- 0.00 {'KNN__n_neighbors': 8, 'LR__C': 0.01, 'RF__n_estimators': 500}\n"
     ]
    }
   ],
   "source": [
    "from sklearn.model_selection import GridSearchCV\n",
    "\n",
    "params = {'LR__C': [1.0, 0.1, 0.01],\n",
    "          'KNN__n_neighbors': [4, 6, 8],\n",
    "          'RF__n_estimators': [50, 100, 500]}\n",
    "\n",
    "grid = GridSearchCV(estimator=vo_clf, param_grid=params, cv=10, scoring='roc_auc')\n",
    "grid.fit(X_train, y_train)\n",
    "\n",
    "for r, _ in enumerate(grid.cv_results_['mean_test_score']):\n",
    "    print(\"%0.3f +/- %0.2f %r\"\n",
    "          % (grid.cv_results_['mean_test_score'][r], \n",
    "             grid.cv_results_['std_test_score'][r] / 2.0, \n",
    "             grid.cv_results_['params'][r]))"
   ]
  },
  {
   "cell_type": "code",
   "execution_count": 16,
   "id": "ca916da6",
   "metadata": {},
   "outputs": [
    {
     "name": "stdout",
     "output_type": "stream",
     "text": [
      "최적의 매개변수: {'KNN__n_neighbors': 4, 'LR__C': 1.0, 'RF__n_estimators': 500}\n"
     ]
    }
   ],
   "source": [
    "print('최적의 매개변수: %s' % grid.best_params_)"
   ]
  },
  {
   "cell_type": "code",
   "execution_count": 17,
   "id": "9e6c5a05",
   "metadata": {},
   "outputs": [
    {
     "name": "stdout",
     "output_type": "stream",
     "text": [
      "정확도: 1.00\n"
     ]
    }
   ],
   "source": [
    "print('정확도: %.2f' % grid.best_score_)"
   ]
  },
  {
   "cell_type": "code",
   "execution_count": 19,
   "id": "c7be9e7f",
   "metadata": {},
   "outputs": [
    {
     "name": "stdout",
     "output_type": "stream",
     "text": [
      "(테스트) 정확도: 0.930\n",
      "(테스트) F1: 0.946\n"
     ]
    }
   ],
   "source": [
    "model = grid.best_estimator_\n",
    "y_test_pred = model.predict(X_test)\n",
    "print('(테스트) 정확도: %.3f' % accuracy_score(y_true=y_test, y_pred=y_pred_test))\n",
    "print('(테스트) F1: %.3f' % f1_score(y_true=y_test, y_pred=y_pred_test))"
   ]
  },
  {
   "cell_type": "code",
   "execution_count": null,
   "id": "d8bb538e",
   "metadata": {},
   "outputs": [],
   "source": []
  }
 ],
 "metadata": {
  "kernelspec": {
   "display_name": "Python [conda env:2024-DS] *",
   "language": "python",
   "name": "conda-env-2024-DS-py"
  },
  "language_info": {
   "codemirror_mode": {
    "name": "ipython",
    "version": 3
   },
   "file_extension": ".py",
   "mimetype": "text/x-python",
   "name": "python",
   "nbconvert_exporter": "python",
   "pygments_lexer": "ipython3",
   "version": "3.9.18"
  }
 },
 "nbformat": 4,
 "nbformat_minor": 5
}
