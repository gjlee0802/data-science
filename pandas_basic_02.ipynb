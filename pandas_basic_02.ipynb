{
 "cells": [
  {
   "cell_type": "code",
   "execution_count": 1,
   "metadata": {},
   "outputs": [],
   "source": [
    "import pandas as pd"
   ]
  },
  {
   "cell_type": "code",
   "execution_count": 2,
   "metadata": {},
   "outputs": [
    {
     "name": "stdout",
     "output_type": "stream",
     "text": [
      "    c0  c1  c2  c3  c4\n",
      "r0   1   4   7  10  13\n",
      "r1   2   5   8  11  14\n",
      "r2   3   6   9  12  15\n",
      "\n",
      "\n",
      "     c0   c1   c2    c3    c4\n",
      "r0  1.0  4.0  7.0  10.0  13.0\n",
      "r1  2.0  5.0  8.0  11.0  14.0\n",
      "r2  3.0  6.0  9.0  12.0  15.0\n",
      "r3  NaN  NaN  NaN   NaN   NaN\n",
      "r4  NaN  NaN  NaN   NaN   NaN\n",
      "\n",
      "\n",
      "    c0  c1  c2  c3  c4\n",
      "r0   1   4   7  10  13\n",
      "r1   2   5   8  11  14\n",
      "r2   3   6   9  12  15\n",
      "r3   0   0   0   0   0\n",
      "r4   0   0   0   0   0\n"
     ]
    }
   ],
   "source": [
    "# 딕셔서리를 정의\n",
    "dict_data = {'c0':[1,2,3], 'c1':[4,5,6], 'c2':[7,8,9], 'c3':[10,11,12], 'c4':[13,14,15]}\n",
    "\n",
    "# 딕셔서리를 데이터프레임으로 변환. 인덱스를 [r0, r1, r2]로 지정\n",
    "df = pd.DataFrame(dict_data, index=['r0', 'r1', 'r2'])\n",
    "print(df)\n",
    "print('\\n')\n",
    "\n",
    "# 인덱스를 [r0, r1, r2, r3, r4]로 재지정\n",
    "new_index = ['r0', 'r1', 'r2', 'r3', 'r4']\n",
    "ndf = df.reindex(new_index)\n",
    "print(ndf)\n",
    "print('\\n')\n",
    "\n",
    "# reindex로 발생한 NaN값을 숫자 0으로 채우기\n",
    "new_index = ['r0', 'r1', 'r2', 'r3', 'r4']\n",
    "ndf2 = df.reindex(new_index, fill_value=0)\n",
    "print(ndf2)"
   ]
  },
  {
   "cell_type": "markdown",
   "metadata": {},
   "source": [
    "UCI 자동차 연비 (auto mpg) Dataset"
   ]
  },
  {
   "cell_type": "code",
   "execution_count": 4,
   "metadata": {},
   "outputs": [
    {
     "name": "stdout",
     "output_type": "stream",
     "text": [
      "    mpg  cylinders  displacement horsepower  weight  acceleration  model year  \\\n",
      "0  18.0          8         307.0      130.0  3504.0          12.0          70   \n",
      "1  15.0          8         350.0      165.0  3693.0          11.5          70   \n",
      "2  18.0          8         318.0      150.0  3436.0          11.0          70   \n",
      "3  16.0          8         304.0      150.0  3433.0          12.0          70   \n",
      "4  17.0          8         302.0      140.0  3449.0          10.5          70   \n",
      "\n",
      "   origin                       name  \n",
      "0       1  chevrolet chevelle malibu  \n",
      "1       1          buick skylark 320  \n",
      "2       1         plymouth satellite  \n",
      "3       1              amc rebel sst  \n",
      "4       1                ford torino  \n",
      "\n",
      "\n",
      "      mpg  cylinders  displacement horsepower  weight  acceleration  \\\n",
      "393  27.0          4         140.0      86.00  2790.0          15.6   \n",
      "394  44.0          4          97.0      52.00  2130.0          24.6   \n",
      "395  32.0          4         135.0      84.00  2295.0          11.6   \n",
      "396  28.0          4         120.0      79.00  2625.0          18.6   \n",
      "397  31.0          4         119.0      82.00  2720.0          19.4   \n",
      "\n",
      "     model year  origin             name  \n",
      "393          82       1  ford mustang gl  \n",
      "394          82       2        vw pickup  \n",
      "395          82       1    dodge rampage  \n",
      "396          82       1      ford ranger  \n",
      "397          82       1       chevy s-10  \n"
     ]
    }
   ],
   "source": [
    "import pandas as pd\n",
    "\n",
    "# read_csv() 함수로 df 생성\n",
    "df = pd.read_csv('./pandas_basic_02_data/auto-mpg.csv', header=None)\n",
    "\n",
    "# 열 이름을 지정\n",
    "df.columns = ['mpg','cylinders','displacement','horsepower','weight',\n",
    "              'acceleration','model year','origin','name']\n",
    "\n",
    "# 데이터프레임 df의 내용을 일부 확인 \n",
    "print(df.head())     # 처음 5개의 행\n",
    "print('\\n')\n",
    "print(df.tail())     # 마지막 5개의 행"
   ]
  },
  {
   "cell_type": "code",
   "execution_count": 8,
   "metadata": {},
   "outputs": [
    {
     "name": "stdout",
     "output_type": "stream",
     "text": [
      "(398, 9)\n",
      "\n",
      "\n",
      "               mpg   cylinders  displacement horsepower       weight  \\\n",
      "count   398.000000  398.000000    398.000000        398   398.000000   \n",
      "unique         NaN         NaN           NaN         94          NaN   \n",
      "top            NaN         NaN           NaN      150.0          NaN   \n",
      "freq           NaN         NaN           NaN         22          NaN   \n",
      "mean     23.514573    5.454774    193.425879        NaN  2970.424623   \n",
      "std       7.815984    1.701004    104.269838        NaN   846.841774   \n",
      "min       9.000000    3.000000     68.000000        NaN  1613.000000   \n",
      "25%      17.500000    4.000000    104.250000        NaN  2223.750000   \n",
      "50%      23.000000    4.000000    148.500000        NaN  2803.500000   \n",
      "75%      29.000000    8.000000    262.000000        NaN  3608.000000   \n",
      "max      46.600000    8.000000    455.000000        NaN  5140.000000   \n",
      "\n",
      "        acceleration  model year      origin        name  \n",
      "count     398.000000  398.000000  398.000000         398  \n",
      "unique           NaN         NaN         NaN         305  \n",
      "top              NaN         NaN         NaN  ford pinto  \n",
      "freq             NaN         NaN         NaN           6  \n",
      "mean       15.568090   76.010050    1.572864         NaN  \n",
      "std         2.757689    3.697627    0.802055         NaN  \n",
      "min         8.000000   70.000000    1.000000         NaN  \n",
      "25%        13.825000   73.000000    1.000000         NaN  \n",
      "50%        15.500000   76.000000    1.000000         NaN  \n",
      "75%        17.175000   79.000000    2.000000         NaN  \n",
      "max        24.800000   82.000000    3.000000         NaN  \n"
     ]
    }
   ],
   "source": [
    "print(df.shape)\n",
    "print('\\n')\n",
    "print(df.describe(include='all')) # 기술 통계 정보 확인"
   ]
  },
  {
   "cell_type": "code",
   "execution_count": 7,
   "metadata": {},
   "outputs": [
    {
     "name": "stdout",
     "output_type": "stream",
     "text": [
      "mpg             398\n",
      "cylinders       398\n",
      "displacement    398\n",
      "horsepower      398\n",
      "weight          398\n",
      "acceleration    398\n",
      "model year      398\n",
      "origin          398\n",
      "name            398\n",
      "dtype: int64\n"
     ]
    }
   ],
   "source": [
    "print(df.count()) # 개수 확인 (Nan은 세지 않음)"
   ]
  },
  {
   "cell_type": "code",
   "execution_count": 12,
   "metadata": {},
   "outputs": [
    {
     "name": "stdout",
     "output_type": "stream",
     "text": [
      "origin\n",
      "1    249\n",
      "3     79\n",
      "2     70\n",
      "Name: count, dtype: int64\n"
     ]
    }
   ],
   "source": [
    "print(df['origin'].value_counts()) # 특정 열이 갖고 있는 고유값 개수 확인"
   ]
  },
  {
   "cell_type": "code",
   "execution_count": 16,
   "metadata": {},
   "outputs": [
    {
     "name": "stdout",
     "output_type": "stream",
     "text": [
      "23.514572864321607\n",
      "2970.424623115578\n",
      "mpg         23.514573\n",
      "weight    2970.424623\n",
      "dtype: float64\n"
     ]
    }
   ],
   "source": [
    "print(df['mpg'].mean())\n",
    "print(df['weight'].mean())\n",
    "\n",
    "print(df[['mpg', 'weight']].mean())"
   ]
  },
  {
   "cell_type": "code",
   "execution_count": 17,
   "metadata": {},
   "outputs": [
    {
     "name": "stdout",
     "output_type": "stream",
     "text": [
      "23.0\n",
      "2803.5\n",
      "mpg         23.0\n",
      "weight    2803.5\n",
      "dtype: float64\n"
     ]
    }
   ],
   "source": [
    "print(df['mpg'].median())\n",
    "print(df['weight'].median())\n",
    "\n",
    "print(df[['mpg', 'weight']].median())"
   ]
  },
  {
   "cell_type": "code",
   "execution_count": 23,
   "metadata": {},
   "outputs": [
    {
     "name": "stdout",
     "output_type": "stream",
     "text": [
      "                mpg    weight  cylinders\n",
      "mpg        1.000000 -0.831741  -0.775396\n",
      "weight    -0.831741  1.000000   0.896017\n",
      "cylinders -0.775396  0.896017   1.000000\n",
      "\n",
      "\n",
      "                mpg    weight  cylinders\n",
      "mpg        1.000000 -0.831741  -0.775396\n",
      "weight    -0.831741  1.000000   0.896017\n",
      "cylinders -0.775396  0.896017   1.000000\n",
      "\n",
      "\n",
      "                mpg    weight  cylinders\n",
      "mpg        1.000000 -0.874947  -0.821864\n",
      "weight    -0.874947  1.000000   0.873314\n",
      "cylinders -0.821864  0.873314   1.000000\n",
      "\n",
      "\n",
      "                mpg    weight  cylinders\n",
      "mpg        1.000000 -0.694006  -0.686477\n",
      "weight    -0.694006  1.000000   0.735481\n",
      "cylinders -0.686477  0.735481   1.000000\n"
     ]
    }
   ],
   "source": [
    "print(df[['mpg', 'weight', 'cylinders']].corr()) # Default corr 계산은 pearson 상관계수를 계산한다.\n",
    "\n",
    "print('\\n')\n",
    "\n",
    "print(df[['mpg', 'weight', 'cylinders']].corr(method='pearson'))\n",
    "\n",
    "print('\\n')\n",
    "\n",
    "print(df[['mpg', 'weight', 'cylinders']].corr(method='spearman'))\n",
    "\n",
    "print('\\n')\n",
    "\n",
    "print(df[['mpg', 'weight', 'cylinders']].corr(method='kendall'))"
   ]
  },
  {
   "cell_type": "markdown",
   "metadata": {},
   "source": [
    "남북한발전전력량 데이터셋"
   ]
  },
  {
   "cell_type": "code",
   "execution_count": 27,
   "metadata": {},
   "outputs": [],
   "source": [
    "df = pd.read_excel('./pandas_basic_02_data/남북한발전전력량.xlsx', engine='openpyxl')  # 데이터프레임 변환 "
   ]
  },
  {
   "cell_type": "code",
   "execution_count": 33,
   "metadata": {},
   "outputs": [
    {
     "name": "stdout",
     "output_type": "stream",
     "text": [
      "  전력량 (억㎾h) 발전 전력별  1990  1991  1992  1993  1994  1995  1996  1997  ...  2007  \\\n",
      "0        남한     합계  1077  1186  1310  1444  1650  1847  2055  2244  ...  4031   \n",
      "1       NaN     수력    64    51    49    60    41    55    52    54  ...    50   \n",
      "2       NaN     화력   484   573   696   803  1022  1122  1264  1420  ...  2551   \n",
      "3       NaN    원자력   529   563   565   581   587   670   739   771  ...  1429   \n",
      "4       NaN    신재생     -     -     -     -     -     -     -     -  ...     -   \n",
      "5        북한     합계   277   263   247   221   231   230   213   193  ...   236   \n",
      "\n",
      "   2008  2009  2010  2011  2012  2013  2014  2015  2016  \n",
      "0  4224  4336  4747  4969  5096  5171  5220  5281  5404  \n",
      "1    56    56    65    78    77    84    78    58    66  \n",
      "2  2658  2802  3196  3343  3430  3581  3427  3402  3523  \n",
      "3  1510  1478  1486  1547  1503  1388  1564  1648  1620  \n",
      "4     -     -     -     -    86   118   151   173   195  \n",
      "5   255   235   237   211   215   221   216   190   239  \n",
      "\n",
      "[6 rows x 29 columns]\n"
     ]
    }
   ],
   "source": [
    "print(df.head(6))"
   ]
  },
  {
   "cell_type": "code",
   "execution_count": 35,
   "metadata": {},
   "outputs": [
    {
     "name": "stdout",
     "output_type": "stream",
     "text": [
      "   1991  1992  1993  1994  1995  1996  1997  1998  1999  2000  ...  2007  \\\n",
      "0  1186  1310  1444  1650  1847  2055  2244  2153  2393  2664  ...  4031   \n",
      "5   263   247   221   231   230   213   193   170   186   194  ...   236   \n",
      "\n",
      "   2008  2009  2010  2011  2012  2013  2014  2015  2016  \n",
      "0  4224  4336  4747  4969  5096  5171  5220  5281  5404  \n",
      "5   255   235   237   211   215   221   216   190   239  \n",
      "\n",
      "[2 rows x 26 columns]\n",
      "     South North\n",
      "1991  1186   263\n",
      "1992  1310   247\n",
      "1993  1444   221\n",
      "1994  1650   231\n",
      "1995  1847   230\n"
     ]
    }
   ],
   "source": [
    "df_ns = df.iloc[[0, 5], 3:]\n",
    "print(df_ns.head(3))\n",
    "\n",
    "df_ns.index = ['South', 'North']\n",
    "df_ns.columns = df_ns.columns.map(int)\n",
    "\n",
    "df_ns = df_ns.T\n",
    "\n",
    "print(df_ns.head())"
   ]
  }
 ],
 "metadata": {
  "kernelspec": {
   "display_name": "Python 3",
   "language": "python",
   "name": "python3"
  },
  "language_info": {
   "codemirror_mode": {
    "name": "ipython",
    "version": 3
   },
   "file_extension": ".py",
   "mimetype": "text/x-python",
   "name": "python",
   "nbconvert_exporter": "python",
   "pygments_lexer": "ipython3",
   "version": "2.7.undefined"
  }
 },
 "nbformat": 4,
 "nbformat_minor": 2
}
