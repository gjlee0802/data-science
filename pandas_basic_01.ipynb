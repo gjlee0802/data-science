{
 "cells": [
  {
   "cell_type": "markdown",
   "metadata": {},
   "source": [
    "# 데이터사이언스 2주차 실습 Padas 기초"
   ]
  },
  {
   "cell_type": "code",
   "execution_count": 1,
   "metadata": {},
   "outputs": [],
   "source": [
    "import pandas as pd"
   ]
  },
  {
   "cell_type": "code",
   "execution_count": 2,
   "metadata": {},
   "outputs": [
    {
     "name": "stdout",
     "output_type": "stream",
     "text": [
      "<class 'pandas.core.series.Series'>\n",
      "\n",
      "\n",
      "a    1\n",
      "b    2\n",
      "c    3\n",
      "dtype: int64\n"
     ]
    }
   ],
   "source": [
    "dict_data = {'a': 1, 'b':2, 'c':3}\n",
    "\n",
    "# Series로 변환\n",
    "sr = pd.Series(dict_data)\n",
    "\n",
    "print(type(sr))\n",
    "print('\\n')\n",
    "\n",
    "print(sr)"
   ]
  },
  {
   "cell_type": "code",
   "execution_count": 3,
   "metadata": {},
   "outputs": [
    {
     "name": "stdout",
     "output_type": "stream",
     "text": [
      "0    2019-01-02\n",
      "1          3.14\n",
      "2           ABC\n",
      "3           100\n",
      "4          True\n",
      "dtype: object\n",
      "\n",
      "\n",
      "RangeIndex(start=0, stop=5, step=1)\n",
      "\n",
      "\n",
      "['2019-01-02' 3.14 'ABC' 100 True]\n"
     ]
    }
   ],
   "source": [
    "list_data = ['2019-01-02', 3.14, 'ABC', 100, True]\n",
    "\n",
    "sr = pd.Series(list_data)\n",
    "\n",
    "print(sr)\n",
    "print('\\n')\n",
    "\n",
    "\n",
    "idx = sr.index\n",
    "val = sr.values\n",
    "\n",
    "print(idx)\n",
    "print('\\n')\n",
    "print(val)"
   ]
  },
  {
   "cell_type": "code",
   "execution_count": 4,
   "metadata": {},
   "outputs": [
    {
     "name": "stdout",
     "output_type": "stream",
     "text": [
      "이름              영인\n",
      "생년월일    2010-05-01\n",
      "성별               여\n",
      "학생여부          True\n",
      "dtype: object\n",
      "\n",
      "\n",
      "영인\n",
      "\n",
      "여러개 원소 선택\n",
      "영인\n",
      "생년월일    2010-05-01\n",
      "성별               여\n",
      "dtype: object\n",
      "생년월일    2010-05-01\n",
      "dtype: object\n",
      "생년월일    2010-05-01\n",
      "성별               여\n",
      "dtype: object\n"
     ]
    },
    {
     "name": "stderr",
     "output_type": "stream",
     "text": [
      "/tmp/ipykernel_6240/2819072308.py:9: FutureWarning: Series.__getitem__ treating keys as positions is deprecated. In a future version, integer keys will always be treated as labels (consistent with DataFrame behavior). To access a value by position, use `ser.iloc[pos]`\n",
      "  print(sr[0])\n",
      "/tmp/ipykernel_6240/2819072308.py:10: FutureWarning: Series.__getitem__ treating keys as positions is deprecated. In a future version, integer keys will always be treated as labels (consistent with DataFrame behavior). To access a value by position, use `ser.iloc[pos]`\n",
      "  print(sr[[1,2]])\n"
     ]
    }
   ],
   "source": [
    "tup_data = ('영인', '2010-05-01', '여', True)\n",
    "\n",
    "sr = pd.Series(tup_data, index=['이름', '생년월일', '성별', '학생여부'])\n",
    "\n",
    "print(sr)\n",
    "print('\\n')\n",
    "print(sr['이름'])\n",
    "print('\\n여러개 원소 선택')\n",
    "print(sr[0])\n",
    "print(sr[[1,2]])\n",
    "print(sr[1:2])              # 생년월일 데이터까지만 출력함\n",
    "print(sr['생년월일':'성별']) # 성별 데이터까지 출력함"
   ]
  },
  {
   "cell_type": "code",
   "execution_count": 5,
   "metadata": {},
   "outputs": [
    {
     "name": "stdout",
     "output_type": "stream",
     "text": [
      "<class 'pandas.core.frame.DataFrame'>\n",
      "\n",
      "\n",
      "   c0  c1  c2  c3\n",
      "0   1   4   7  10\n",
      "1   2   5   8  11\n",
      "2   3   6   9  12\n"
     ]
    }
   ],
   "source": [
    "# 들어가는 리스트의 길이는 같아야 한다. (행의 크기가 됨)\n",
    "dict_data = {'c0':[1,2,3], 'c1':[4,5,6], 'c2':[7,8,9], 'c3':[10, 11, 12]}\n",
    "\n",
    "df = pd.DataFrame(dict_data)\n",
    "\n",
    "print(type(df))\n",
    "print('\\n')\n",
    "print(df)"
   ]
  },
  {
   "cell_type": "code",
   "execution_count": 6,
   "metadata": {},
   "outputs": [
    {
     "name": "stdout",
     "output_type": "stream",
     "text": [
      "    나이 성별   학교\n",
      "준서  15  남  덕영중\n",
      "예은  17  여  수리중\n",
      "\n",
      "\n",
      "Index(['준서', '예은'], dtype='object')\n",
      "\n",
      "\n",
      "Index(['나이', '성별', '학교'], dtype='object')\n",
      "\n",
      "이름바꾸기\n",
      "    연령 남녀   소속\n",
      "준서  15  남  덕영중\n",
      "예은  17  여  수리중\n",
      "\n",
      "\n",
      "Drop하기\n",
      "\n",
      "행방향 준서 Drop\n",
      "    연령 남녀   소속\n",
      "예은  17  여  수리중\n",
      "\n",
      "열방향 소속 Drop\n",
      "    연령 남녀\n",
      "예은  17  여\n"
     ]
    },
    {
     "name": "stderr",
     "output_type": "stream",
     "text": [
      "/tmp/ipykernel_6240/3367111073.py:23: SettingWithCopyWarning: \n",
      "A value is trying to be set on a copy of a slice from a DataFrame\n",
      "\n",
      "See the caveats in the documentation: https://pandas.pydata.org/pandas-docs/stable/user_guide/indexing.html#returning-a-view-versus-a-copy\n",
      "  df_drop.drop(['준서'], axis = 0, inplace=True)\n",
      "/tmp/ipykernel_6240/3367111073.py:26: SettingWithCopyWarning: \n",
      "A value is trying to be set on a copy of a slice from a DataFrame\n",
      "\n",
      "See the caveats in the documentation: https://pandas.pydata.org/pandas-docs/stable/user_guide/indexing.html#returning-a-view-versus-a-copy\n",
      "  df_drop.drop(['소속'], axis = 1, inplace=True)\n"
     ]
    }
   ],
   "source": [
    "# 행 인덱스 / 열 이름 지정하여 DataFrame 만들기\n",
    "\n",
    "df = pd.DataFrame([[15, '남', '덕영중'], [17, '여', '수리중']], index=['준서', '예은'], columns=['나이', '성별', '학교'])\n",
    "\n",
    "print(df)\n",
    "print('\\n')\n",
    "print(df.index)\n",
    "print('\\n')\n",
    "print(df.columns)\n",
    "\n",
    "# 이름 바꾸기\n",
    "print('\\n이름바꾸기')\n",
    "# inplace를 False로 하면 새로운 DataFrame 객체를 반환\n",
    "# inplace를 True로 하면 기존 DataFrame 객체에 적용함\n",
    "df.rename(columns={'나이':'연령', '성별':'남녀', '학교':'소속'}, inplace=True)\n",
    "print(df)\n",
    "\n",
    "# Drop하기\n",
    "print('\\n\\nDrop하기')\n",
    "# df를 복제하여 df_drop에 저장\n",
    "df_drop = df[:]\n",
    "print('\\n행방향 준서 Drop')\n",
    "df_drop.drop(['준서'], axis = 0, inplace=True)\n",
    "print(df_drop)\n",
    "print('\\n열방향 소속 Drop')\n",
    "df_drop.drop(['소속'], axis = 1, inplace=True)\n",
    "print(df_drop)\n"
   ]
  },
  {
   "cell_type": "code",
   "execution_count": 10,
   "metadata": {},
   "outputs": [
    {
     "name": "stdout",
     "output_type": "stream",
     "text": [
      "    연령 남녀   소속\n",
      "예은  17  여  수리중\n"
     ]
    }
   ],
   "source": [
    "print(df[df['연령']==17].head(3))"
   ]
  },
  {
   "cell_type": "markdown",
   "metadata": {},
   "source": [
    "## 위치 기반/명칭 기반 인덱싱과 슬라이싱"
   ]
  },
  {
   "cell_type": "markdown",
   "metadata": {},
   "source": [
    "iloc을 사용할 때는 명칭(문자열)을 사용하면 안됨.\n",
    "위치 정보만 사용해야 함.\n",
    "\n",
    "명칭 정보를 기반으로 인덱싱할 때는 loc을 사용함.\n",
    "loc를 사용할 때는 loc 파라미터로 숫자가 들어가더라도 '명칭'으로 해석됨에 유의"
   ]
  },
  {
   "cell_type": "markdown",
   "metadata": {},
   "source": [
    "위치 기반 인덱싱으로 슬라이싱할 때는 start원소부터 end-1 원소까지,\n",
    "명칭 기반 인덱싱으로 슬라이싱할 때는 오른쪽 end 값까지 포함함."
   ]
  },
  {
   "cell_type": "code",
   "execution_count": 11,
   "metadata": {},
   "outputs": [
    {
     "name": "stdout",
     "output_type": "stream",
     "text": [
      "    수학  영어   음악   체육\n",
      "서준  90  98   85  100\n",
      "우현  80  89   95   90\n",
      "인아  70  95  100   90\n"
     ]
    }
   ],
   "source": [
    "import pandas as pd\n",
    "\n",
    "exam_data = {'수학':[90, 80, 70], '영어':[98, 89, 95], \n",
    "             '음악':[85, 95, 100], '체육':[100, 90, 90]}\n",
    "\n",
    "df = pd.DataFrame(exam_data, index=['서준', '우현', '인아'])\n",
    "\n",
    "print(df)"
   ]
  },
  {
   "cell_type": "code",
   "execution_count": 12,
   "metadata": {},
   "outputs": [
    {
     "name": "stdout",
     "output_type": "stream",
     "text": [
      "90\n"
     ]
    }
   ],
   "source": [
    "print(df.iloc[0,0])"
   ]
  },
  {
   "cell_type": "code",
   "execution_count": 13,
   "metadata": {},
   "outputs": [
    {
     "name": "stdout",
     "output_type": "stream",
     "text": [
      "수학    90\n",
      "영어    98\n",
      "음악    85\n",
      "Name: 서준, dtype: int64\n"
     ]
    }
   ],
   "source": [
    "print(df.iloc[0, 0:3])"
   ]
  },
  {
   "cell_type": "markdown",
   "metadata": {},
   "source": [
    "위치 기반으로 슬라이싱하어 0번째인 '수학'부터 2번째인 '음악'까지의 값을 가져옴."
   ]
  },
  {
   "cell_type": "code",
   "execution_count": 14,
   "metadata": {},
   "outputs": [
    {
     "name": "stdout",
     "output_type": "stream",
     "text": [
      "수학     90\n",
      "영어     98\n",
      "음악     85\n",
      "체육    100\n",
      "Name: 서준, dtype: int64\n"
     ]
    }
   ],
   "source": [
    "print(df.loc['서준', '수학':'체육'])"
   ]
  },
  {
   "cell_type": "markdown",
   "metadata": {},
   "source": [
    "명칭 기반으로 슬라이싱하여 '수학'부터 '체육'까지의 값을 가져옴."
   ]
  },
  {
   "cell_type": "markdown",
   "metadata": {},
   "source": [
    "## Boolean 인덱싱과 논리연산"
   ]
  },
  {
   "cell_type": "markdown",
   "metadata": {},
   "source": [
    "음악과 체육이 동시에 90점을 넘는 학생 인덱싱"
   ]
  },
  {
   "cell_type": "code",
   "execution_count": 32,
   "metadata": {},
   "outputs": [
    {
     "name": "stdout",
     "output_type": "stream",
     "text": [
      "    수학  영어   음악  체육\n",
      "우현  80  89   95  90\n",
      "인아  70  95  100  90\n"
     ]
    }
   ],
   "source": [
    "print(df[(df['음악'] >= 90) & (df['체육'] >= 90)]) # & 대신 and 사용하면 안됨"
   ]
  },
  {
   "cell_type": "markdown",
   "metadata": {},
   "source": [
    "## 여러 개의 행 / 열 지정"
   ]
  },
  {
   "cell_type": "markdown",
   "metadata": {},
   "source": [
    "여러 개의 행 선택"
   ]
  },
  {
   "cell_type": "code",
   "execution_count": 33,
   "metadata": {},
   "outputs": [
    {
     "name": "stdout",
     "output_type": "stream",
     "text": [
      "    수학  영어   음악   체육\n",
      "서준  90  98   85  100\n",
      "인아  70  95  100   90\n"
     ]
    }
   ],
   "source": [
    "print(df.loc[['서준','인아']])"
   ]
  }
 ],
 "metadata": {
  "kernelspec": {
   "display_name": "Python 3",
   "language": "python",
   "name": "python3"
  },
  "language_info": {
   "codemirror_mode": {
    "name": "ipython",
    "version": 3
   },
   "file_extension": ".py",
   "mimetype": "text/x-python",
   "name": "python",
   "nbconvert_exporter": "python",
   "pygments_lexer": "ipython3",
   "version": "3.9.18"
  }
 },
 "nbformat": 4,
 "nbformat_minor": 2
}
